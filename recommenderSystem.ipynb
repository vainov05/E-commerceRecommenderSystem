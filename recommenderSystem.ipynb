{
  "nbformat": 4,
  "nbformat_minor": 0,
  "metadata": {
    "colab": {
      "provenance": [],
      "authorship_tag": "ABX9TyNN9PRHfpuISF7226zXeogt",
      "include_colab_link": true
    },
    "kernelspec": {
      "name": "python3",
      "display_name": "Python 3"
    },
    "language_info": {
      "name": "python"
    },
    "widgets": {
      "application/vnd.jupyter.widget-state+json": {
        "7c79e81097c842cb8fa430372d52a72c": {
          "model_module": "@jupyter-widgets/controls",
          "model_name": "TextModel",
          "model_module_version": "1.5.0",
          "state": {
            "_dom_classes": [],
            "_model_module": "@jupyter-widgets/controls",
            "_model_module_version": "1.5.0",
            "_model_name": "TextModel",
            "_view_count": null,
            "_view_module": "@jupyter-widgets/controls",
            "_view_module_version": "1.5.0",
            "_view_name": "TextView",
            "continuous_update": true,
            "description": "Search product:",
            "description_tooltip": null,
            "disabled": false,
            "layout": "IPY_MODEL_d65099b97a85472f9ca3d49a0daa4224",
            "placeholder": "​",
            "style": "IPY_MODEL_32f5db85b3d747798f6401c5934a6baf",
            "value": "Starbucks"
          }
        },
        "d65099b97a85472f9ca3d49a0daa4224": {
          "model_module": "@jupyter-widgets/base",
          "model_name": "LayoutModel",
          "model_module_version": "1.2.0",
          "state": {
            "_model_module": "@jupyter-widgets/base",
            "_model_module_version": "1.2.0",
            "_model_name": "LayoutModel",
            "_view_count": null,
            "_view_module": "@jupyter-widgets/base",
            "_view_module_version": "1.2.0",
            "_view_name": "LayoutView",
            "align_content": null,
            "align_items": null,
            "align_self": null,
            "border": null,
            "bottom": null,
            "display": null,
            "flex": null,
            "flex_flow": null,
            "grid_area": null,
            "grid_auto_columns": null,
            "grid_auto_flow": null,
            "grid_auto_rows": null,
            "grid_column": null,
            "grid_gap": null,
            "grid_row": null,
            "grid_template_areas": null,
            "grid_template_columns": null,
            "grid_template_rows": null,
            "height": null,
            "justify_content": null,
            "justify_items": null,
            "left": null,
            "margin": null,
            "max_height": null,
            "max_width": null,
            "min_height": null,
            "min_width": null,
            "object_fit": null,
            "object_position": null,
            "order": null,
            "overflow": null,
            "overflow_x": null,
            "overflow_y": null,
            "padding": null,
            "right": null,
            "top": null,
            "visibility": null,
            "width": null
          }
        },
        "32f5db85b3d747798f6401c5934a6baf": {
          "model_module": "@jupyter-widgets/controls",
          "model_name": "DescriptionStyleModel",
          "model_module_version": "1.5.0",
          "state": {
            "_model_module": "@jupyter-widgets/controls",
            "_model_module_version": "1.5.0",
            "_model_name": "DescriptionStyleModel",
            "_view_count": null,
            "_view_module": "@jupyter-widgets/base",
            "_view_module_version": "1.2.0",
            "_view_name": "StyleView",
            "description_width": ""
          }
        },
        "4bd7130ed2bf443d861b819a55a99237": {
          "model_module": "@jupyter-widgets/output",
          "model_name": "OutputModel",
          "model_module_version": "1.0.0",
          "state": {
            "_dom_classes": [],
            "_model_module": "@jupyter-widgets/output",
            "_model_module_version": "1.0.0",
            "_model_name": "OutputModel",
            "_view_count": null,
            "_view_module": "@jupyter-widgets/output",
            "_view_module_version": "1.0.0",
            "_view_name": "OutputView",
            "layout": "IPY_MODEL_7ec50d9f58a144c082c0b9c5c9e68e47",
            "msg_id": "",
            "outputs": [
              {
                "output_type": "display_data",
                "data": {
                  "text/plain": "   Rating                       User_Id                Brand  \\\n0     5.0  AGIZFDSHLSBZ7KHQ4FV65W7B3HMQ  Schmidt's Deodorant   \n\n                                 Product_Description        Asin  \\\n0  Schmidt’s natural deodorant formulas use innov...  B071YYMZ19   \n\n          Clean_brand  \n0  Schmidts Deodorant  ",
                  "text/html": "\n  <div id=\"df-fa92573a-943d-498e-a91f-7763d3aa4987\">\n    <div class=\"colab-df-container\">\n      <div>\n<style scoped>\n    .dataframe tbody tr th:only-of-type {\n        vertical-align: middle;\n    }\n\n    .dataframe tbody tr th {\n        vertical-align: top;\n    }\n\n    .dataframe thead th {\n        text-align: right;\n    }\n</style>\n<table border=\"1\" class=\"dataframe\">\n  <thead>\n    <tr style=\"text-align: right;\">\n      <th></th>\n      <th>Rating</th>\n      <th>User_Id</th>\n      <th>Brand</th>\n      <th>Product_Description</th>\n      <th>Asin</th>\n      <th>Clean_brand</th>\n    </tr>\n  </thead>\n  <tbody>\n    <tr>\n      <th>0</th>\n      <td>5.0</td>\n      <td>AGIZFDSHLSBZ7KHQ4FV65W7B3HMQ</td>\n      <td>Schmidt's Deodorant</td>\n      <td>Schmidt’s natural deodorant formulas use innov...</td>\n      <td>B071YYMZ19</td>\n      <td>Schmidts Deodorant</td>\n    </tr>\n  </tbody>\n</table>\n</div>\n      <button class=\"colab-df-convert\" onclick=\"convertToInteractive('df-fa92573a-943d-498e-a91f-7763d3aa4987')\"\n              title=\"Convert this dataframe to an interactive table.\"\n              style=\"display:none;\">\n        \n  <svg xmlns=\"http://www.w3.org/2000/svg\" height=\"24px\"viewBox=\"0 0 24 24\"\n       width=\"24px\">\n    <path d=\"M0 0h24v24H0V0z\" fill=\"none\"/>\n    <path d=\"M18.56 5.44l.94 2.06.94-2.06 2.06-.94-2.06-.94-.94-2.06-.94 2.06-2.06.94zm-11 1L8.5 8.5l.94-2.06 2.06-.94-2.06-.94L8.5 2.5l-.94 2.06-2.06.94zm10 10l.94 2.06.94-2.06 2.06-.94-2.06-.94-.94-2.06-.94 2.06-2.06.94z\"/><path d=\"M17.41 7.96l-1.37-1.37c-.4-.4-.92-.59-1.43-.59-.52 0-1.04.2-1.43.59L10.3 9.45l-7.72 7.72c-.78.78-.78 2.05 0 2.83L4 21.41c.39.39.9.59 1.41.59.51 0 1.02-.2 1.41-.59l7.78-7.78 2.81-2.81c.8-.78.8-2.07 0-2.86zM5.41 20L4 18.59l7.72-7.72 1.47 1.35L5.41 20z\"/>\n  </svg>\n      </button>\n      \n  <style>\n    .colab-df-container {\n      display:flex;\n      flex-wrap:wrap;\n      gap: 12px;\n    }\n\n    .colab-df-convert {\n      background-color: #E8F0FE;\n      border: none;\n      border-radius: 50%;\n      cursor: pointer;\n      display: none;\n      fill: #1967D2;\n      height: 32px;\n      padding: 0 0 0 0;\n      width: 32px;\n    }\n\n    .colab-df-convert:hover {\n      background-color: #E2EBFA;\n      box-shadow: 0px 1px 2px rgba(60, 64, 67, 0.3), 0px 1px 3px 1px rgba(60, 64, 67, 0.15);\n      fill: #174EA6;\n    }\n\n    [theme=dark] .colab-df-convert {\n      background-color: #3B4455;\n      fill: #D2E3FC;\n    }\n\n    [theme=dark] .colab-df-convert:hover {\n      background-color: #434B5C;\n      box-shadow: 0px 1px 3px 1px rgba(0, 0, 0, 0.15);\n      filter: drop-shadow(0px 1px 2px rgba(0, 0, 0, 0.3));\n      fill: #FFFFFF;\n    }\n  </style>\n\n      <script>\n        const buttonEl =\n          document.querySelector('#df-fa92573a-943d-498e-a91f-7763d3aa4987 button.colab-df-convert');\n        buttonEl.style.display =\n          google.colab.kernel.accessAllowed ? 'block' : 'none';\n\n        async function convertToInteractive(key) {\n          const element = document.querySelector('#df-fa92573a-943d-498e-a91f-7763d3aa4987');\n          const dataTable =\n            await google.colab.kernel.invokeFunction('convertToInteractive',\n                                                     [key], {});\n          if (!dataTable) return;\n\n          const docLinkHtml = 'Like what you see? Visit the ' +\n            '<a target=\"_blank\" href=https://colab.research.google.com/notebooks/data_table.ipynb>data table notebook</a>'\n            + ' to learn more about interactive tables.';\n          element.innerHTML = '';\n          dataTable['output_type'] = 'display_data';\n          await google.colab.output.renderOutput(dataTable, element);\n          const docLink = document.createElement('div');\n          docLink.innerHTML = docLinkHtml;\n          element.appendChild(docLink);\n        }\n      </script>\n    </div>\n  </div>\n  "
                },
                "metadata": {}
              }
            ]
          }
        },
        "7ec50d9f58a144c082c0b9c5c9e68e47": {
          "model_module": "@jupyter-widgets/base",
          "model_name": "LayoutModel",
          "model_module_version": "1.2.0",
          "state": {
            "_model_module": "@jupyter-widgets/base",
            "_model_module_version": "1.2.0",
            "_model_name": "LayoutModel",
            "_view_count": null,
            "_view_module": "@jupyter-widgets/base",
            "_view_module_version": "1.2.0",
            "_view_name": "LayoutView",
            "align_content": null,
            "align_items": null,
            "align_self": null,
            "border": null,
            "bottom": null,
            "display": null,
            "flex": null,
            "flex_flow": null,
            "grid_area": null,
            "grid_auto_columns": null,
            "grid_auto_flow": null,
            "grid_auto_rows": null,
            "grid_column": null,
            "grid_gap": null,
            "grid_row": null,
            "grid_template_areas": null,
            "grid_template_columns": null,
            "grid_template_rows": null,
            "height": null,
            "justify_content": null,
            "justify_items": null,
            "left": null,
            "margin": null,
            "max_height": null,
            "max_width": null,
            "min_height": null,
            "min_width": null,
            "object_fit": null,
            "object_position": null,
            "order": null,
            "overflow": null,
            "overflow_x": null,
            "overflow_y": null,
            "padding": null,
            "right": null,
            "top": null,
            "visibility": null,
            "width": null
          }
        }
      }
    }
  },
  "cells": [
    {
      "cell_type": "markdown",
      "metadata": {
        "id": "view-in-github",
        "colab_type": "text"
      },
      "source": [
        "<a href=\"https://colab.research.google.com/github/vainov05/E-commerceRecommenderSystem/blob/main/recommenderSystem.ipynb\" target=\"_parent\"><img src=\"https://colab.research.google.com/assets/colab-badge.svg\" alt=\"Open In Colab\"/></a>"
      ]
    },
    {
      "cell_type": "markdown",
      "source": [
        "# E-commerce Product Recommendation System"
      ],
      "metadata": {
        "id": "c1VqEOoMa0W8"
      }
    },
    {
      "cell_type": "code",
      "execution_count": 1,
      "metadata": {
        "id": "1MSsqTPYNzPb"
      },
      "outputs": [],
      "source": [
        "import pandas as pd\n",
        "\n",
        "product = pd.read_csv('amazon_com-product_reviews__20200101_20200331_sample.csv')"
      ]
    },
    {
      "cell_type": "code",
      "source": [
        "# The dimension of the dataframe\n",
        "\n",
        "product.shape"
      ],
      "metadata": {
        "colab": {
          "base_uri": "https://localhost:8080/"
        },
        "id": "iXn2ikM2a-56",
        "outputId": "de6b0ab7-181b-465e-eec4-b32f08deb8d0"
      },
      "execution_count": 2,
      "outputs": [
        {
          "output_type": "execute_result",
          "data": {
            "text/plain": [
              "(50, 18)"
            ]
          },
          "metadata": {},
          "execution_count": 2
        }
      ]
    },
    {
      "cell_type": "code",
      "source": [
        "product.head()"
      ],
      "metadata": {
        "colab": {
          "base_uri": "https://localhost:8080/",
          "height": 687
        },
        "id": "l32Wsda3bCCa",
        "outputId": "762f26e4-2346-406a-f7a4-5dd3f72ea853"
      },
      "execution_count": 3,
      "outputs": [
        {
          "output_type": "execute_result",
          "data": {
            "text/plain": [
              "                            Uniq Id            Crawl Timestamp  \\\n",
              "0  10d8b81dc693db8a3f92e19254525d53  2020-03-17 02:32:10 +0000   \n",
              "1  31ef1ee4961d3fcff33e363edd7677eb  2020-03-17 02:32:10 +0000   \n",
              "2  6943e517922b051cbec496be32fbb57f  2020-03-17 02:32:10 +0000   \n",
              "3  6778c794e6ac7112981d4ebb239d6826  2020-03-17 02:32:10 +0000   \n",
              "4  2335a28ae24db3b2191080bfd98a86e0  2020-03-17 02:32:10 +0000   \n",
              "\n",
              "                    Billing Uniq Id  Rating  \\\n",
              "0  c697dc43961526785292107b91a639e1     NaN   \n",
              "1  c697dc43961526785292107b91a639e1     NaN   \n",
              "2  c697dc43961526785292107b91a639e1     NaN   \n",
              "3  c697dc43961526785292107b91a639e1     NaN   \n",
              "4  c697dc43961526785292107b91a639e1     NaN   \n",
              "\n",
              "                                        Review Title  Review Rating  \\\n",
              "0                           Best Natural Deodorant!!            5.0   \n",
              "1          Schmidt's Charcoal Deodorant is the best!            5.0   \n",
              "2                  Beware. Defective or counterfeit.            1.0   \n",
              "3  Good for infrequent shavers in cooler months i...            3.0   \n",
              "4  This isn’t the true product and will hurt your...            1.0   \n",
              "\n",
              "     Review Date                       User Id                Brand  \\\n",
              "0  March 6, 2020  AGIZFDSHLSBZ7KHQ4FV65W7B3HMQ  Schmidt's Deodorant   \n",
              "1  March 6, 2020  AHOZPYWO6WE5MLAZZPDUAWNKKNRQ  Schmidt's Deodorant   \n",
              "2  March 6, 2020  AECC6GYWWLNCKSBG3DZDGFSYDOTA  Schmidt's Deodorant   \n",
              "3  March 5, 2020  AEOO6OOEO4QD7Z4F6C2FMZUCW7PA  Schmidt's Deodorant   \n",
              "4  March 2, 2020  AEHSDCGRIMVOUG6ST35FJ4FMMW5Q  Schmidt's Deodorant   \n",
              "\n",
              "                 Category   Sub Category  \\\n",
              "0  Beauty & Personal Care  Personal Care   \n",
              "1  Beauty & Personal Care  Personal Care   \n",
              "2  Beauty & Personal Care  Personal Care   \n",
              "3  Beauty & Personal Care  Personal Care   \n",
              "4  Beauty & Personal Care  Personal Care   \n",
              "\n",
              "                                 Product Description        Asin  \\\n",
              "0  Schmidt’s natural deodorant formulas use innov...  B071YYMZ19   \n",
              "1  Schmidt’s natural deodorant formulas use innov...  B071YYMZ19   \n",
              "2  Schmidt’s natural deodorant formulas use innov...  B071YYMZ19   \n",
              "3  Schmidt’s natural deodorant formulas use innov...  B071YYMZ19   \n",
              "4  Schmidt’s natural deodorant formulas use innov...  B071YYMZ19   \n",
              "\n",
              "                                                 Url  \\\n",
              "0  https://www.amazon.com/gp/customer-reviews/R2Q...   \n",
              "1  https://www.amazon.com/gp/customer-reviews/R14...   \n",
              "2  https://www.amazon.com/gp/customer-reviews/R2R...   \n",
              "3  https://www.amazon.com/gp/customer-reviews/RMI...   \n",
              "4  https://www.amazon.com/gp/customer-reviews/R1R...   \n",
              "\n",
              "                                      Review Content  Verified Purchase  \\\n",
              "0  This is the one natural deodorant that works f...  Verified Purchase   \n",
              "1  I am staying away from the conventional deodor...  Verified Purchase   \n",
              "2  Do not buy this from Amazon it's either defect...  Verified Purchase   \n",
              "3  I started using this because I was getting cys...                 NO   \n",
              "4  Dont buy this from amazon!!!! I never write re...  Verified Purchase   \n",
              "\n",
              "                    Helpful Review Count  Manufacturer Response  \n",
              "0                                      0                    NaN  \n",
              "1                                      0                    NaN  \n",
              "2  One person found this helpful Helpful                    NaN  \n",
              "3                                      0                    NaN  \n",
              "4  One person found this helpful Helpful                    NaN  "
            ],
            "text/html": [
              "\n",
              "  <div id=\"df-534da268-1d52-4a17-abc8-a02963554973\">\n",
              "    <div class=\"colab-df-container\">\n",
              "      <div>\n",
              "<style scoped>\n",
              "    .dataframe tbody tr th:only-of-type {\n",
              "        vertical-align: middle;\n",
              "    }\n",
              "\n",
              "    .dataframe tbody tr th {\n",
              "        vertical-align: top;\n",
              "    }\n",
              "\n",
              "    .dataframe thead th {\n",
              "        text-align: right;\n",
              "    }\n",
              "</style>\n",
              "<table border=\"1\" class=\"dataframe\">\n",
              "  <thead>\n",
              "    <tr style=\"text-align: right;\">\n",
              "      <th></th>\n",
              "      <th>Uniq Id</th>\n",
              "      <th>Crawl Timestamp</th>\n",
              "      <th>Billing Uniq Id</th>\n",
              "      <th>Rating</th>\n",
              "      <th>Review Title</th>\n",
              "      <th>Review Rating</th>\n",
              "      <th>Review Date</th>\n",
              "      <th>User Id</th>\n",
              "      <th>Brand</th>\n",
              "      <th>Category</th>\n",
              "      <th>Sub Category</th>\n",
              "      <th>Product Description</th>\n",
              "      <th>Asin</th>\n",
              "      <th>Url</th>\n",
              "      <th>Review Content</th>\n",
              "      <th>Verified Purchase</th>\n",
              "      <th>Helpful Review Count</th>\n",
              "      <th>Manufacturer Response</th>\n",
              "    </tr>\n",
              "  </thead>\n",
              "  <tbody>\n",
              "    <tr>\n",
              "      <th>0</th>\n",
              "      <td>10d8b81dc693db8a3f92e19254525d53</td>\n",
              "      <td>2020-03-17 02:32:10 +0000</td>\n",
              "      <td>c697dc43961526785292107b91a639e1</td>\n",
              "      <td>NaN</td>\n",
              "      <td>Best Natural Deodorant!!</td>\n",
              "      <td>5.0</td>\n",
              "      <td>March 6, 2020</td>\n",
              "      <td>AGIZFDSHLSBZ7KHQ4FV65W7B3HMQ</td>\n",
              "      <td>Schmidt's Deodorant</td>\n",
              "      <td>Beauty &amp; Personal Care</td>\n",
              "      <td>Personal Care</td>\n",
              "      <td>Schmidt’s natural deodorant formulas use innov...</td>\n",
              "      <td>B071YYMZ19</td>\n",
              "      <td>https://www.amazon.com/gp/customer-reviews/R2Q...</td>\n",
              "      <td>This is the one natural deodorant that works f...</td>\n",
              "      <td>Verified Purchase</td>\n",
              "      <td>0</td>\n",
              "      <td>NaN</td>\n",
              "    </tr>\n",
              "    <tr>\n",
              "      <th>1</th>\n",
              "      <td>31ef1ee4961d3fcff33e363edd7677eb</td>\n",
              "      <td>2020-03-17 02:32:10 +0000</td>\n",
              "      <td>c697dc43961526785292107b91a639e1</td>\n",
              "      <td>NaN</td>\n",
              "      <td>Schmidt's Charcoal Deodorant is the best!</td>\n",
              "      <td>5.0</td>\n",
              "      <td>March 6, 2020</td>\n",
              "      <td>AHOZPYWO6WE5MLAZZPDUAWNKKNRQ</td>\n",
              "      <td>Schmidt's Deodorant</td>\n",
              "      <td>Beauty &amp; Personal Care</td>\n",
              "      <td>Personal Care</td>\n",
              "      <td>Schmidt’s natural deodorant formulas use innov...</td>\n",
              "      <td>B071YYMZ19</td>\n",
              "      <td>https://www.amazon.com/gp/customer-reviews/R14...</td>\n",
              "      <td>I am staying away from the conventional deodor...</td>\n",
              "      <td>Verified Purchase</td>\n",
              "      <td>0</td>\n",
              "      <td>NaN</td>\n",
              "    </tr>\n",
              "    <tr>\n",
              "      <th>2</th>\n",
              "      <td>6943e517922b051cbec496be32fbb57f</td>\n",
              "      <td>2020-03-17 02:32:10 +0000</td>\n",
              "      <td>c697dc43961526785292107b91a639e1</td>\n",
              "      <td>NaN</td>\n",
              "      <td>Beware. Defective or counterfeit.</td>\n",
              "      <td>1.0</td>\n",
              "      <td>March 6, 2020</td>\n",
              "      <td>AECC6GYWWLNCKSBG3DZDGFSYDOTA</td>\n",
              "      <td>Schmidt's Deodorant</td>\n",
              "      <td>Beauty &amp; Personal Care</td>\n",
              "      <td>Personal Care</td>\n",
              "      <td>Schmidt’s natural deodorant formulas use innov...</td>\n",
              "      <td>B071YYMZ19</td>\n",
              "      <td>https://www.amazon.com/gp/customer-reviews/R2R...</td>\n",
              "      <td>Do not buy this from Amazon it's either defect...</td>\n",
              "      <td>Verified Purchase</td>\n",
              "      <td>One person found this helpful Helpful</td>\n",
              "      <td>NaN</td>\n",
              "    </tr>\n",
              "    <tr>\n",
              "      <th>3</th>\n",
              "      <td>6778c794e6ac7112981d4ebb239d6826</td>\n",
              "      <td>2020-03-17 02:32:10 +0000</td>\n",
              "      <td>c697dc43961526785292107b91a639e1</td>\n",
              "      <td>NaN</td>\n",
              "      <td>Good for infrequent shavers in cooler months i...</td>\n",
              "      <td>3.0</td>\n",
              "      <td>March 5, 2020</td>\n",
              "      <td>AEOO6OOEO4QD7Z4F6C2FMZUCW7PA</td>\n",
              "      <td>Schmidt's Deodorant</td>\n",
              "      <td>Beauty &amp; Personal Care</td>\n",
              "      <td>Personal Care</td>\n",
              "      <td>Schmidt’s natural deodorant formulas use innov...</td>\n",
              "      <td>B071YYMZ19</td>\n",
              "      <td>https://www.amazon.com/gp/customer-reviews/RMI...</td>\n",
              "      <td>I started using this because I was getting cys...</td>\n",
              "      <td>NO</td>\n",
              "      <td>0</td>\n",
              "      <td>NaN</td>\n",
              "    </tr>\n",
              "    <tr>\n",
              "      <th>4</th>\n",
              "      <td>2335a28ae24db3b2191080bfd98a86e0</td>\n",
              "      <td>2020-03-17 02:32:10 +0000</td>\n",
              "      <td>c697dc43961526785292107b91a639e1</td>\n",
              "      <td>NaN</td>\n",
              "      <td>This isn’t the true product and will hurt your...</td>\n",
              "      <td>1.0</td>\n",
              "      <td>March 2, 2020</td>\n",
              "      <td>AEHSDCGRIMVOUG6ST35FJ4FMMW5Q</td>\n",
              "      <td>Schmidt's Deodorant</td>\n",
              "      <td>Beauty &amp; Personal Care</td>\n",
              "      <td>Personal Care</td>\n",
              "      <td>Schmidt’s natural deodorant formulas use innov...</td>\n",
              "      <td>B071YYMZ19</td>\n",
              "      <td>https://www.amazon.com/gp/customer-reviews/R1R...</td>\n",
              "      <td>Dont buy this from amazon!!!! I never write re...</td>\n",
              "      <td>Verified Purchase</td>\n",
              "      <td>One person found this helpful Helpful</td>\n",
              "      <td>NaN</td>\n",
              "    </tr>\n",
              "  </tbody>\n",
              "</table>\n",
              "</div>\n",
              "      <button class=\"colab-df-convert\" onclick=\"convertToInteractive('df-534da268-1d52-4a17-abc8-a02963554973')\"\n",
              "              title=\"Convert this dataframe to an interactive table.\"\n",
              "              style=\"display:none;\">\n",
              "        \n",
              "  <svg xmlns=\"http://www.w3.org/2000/svg\" height=\"24px\"viewBox=\"0 0 24 24\"\n",
              "       width=\"24px\">\n",
              "    <path d=\"M0 0h24v24H0V0z\" fill=\"none\"/>\n",
              "    <path d=\"M18.56 5.44l.94 2.06.94-2.06 2.06-.94-2.06-.94-.94-2.06-.94 2.06-2.06.94zm-11 1L8.5 8.5l.94-2.06 2.06-.94-2.06-.94L8.5 2.5l-.94 2.06-2.06.94zm10 10l.94 2.06.94-2.06 2.06-.94-2.06-.94-.94-2.06-.94 2.06-2.06.94z\"/><path d=\"M17.41 7.96l-1.37-1.37c-.4-.4-.92-.59-1.43-.59-.52 0-1.04.2-1.43.59L10.3 9.45l-7.72 7.72c-.78.78-.78 2.05 0 2.83L4 21.41c.39.39.9.59 1.41.59.51 0 1.02-.2 1.41-.59l7.78-7.78 2.81-2.81c.8-.78.8-2.07 0-2.86zM5.41 20L4 18.59l7.72-7.72 1.47 1.35L5.41 20z\"/>\n",
              "  </svg>\n",
              "      </button>\n",
              "      \n",
              "  <style>\n",
              "    .colab-df-container {\n",
              "      display:flex;\n",
              "      flex-wrap:wrap;\n",
              "      gap: 12px;\n",
              "    }\n",
              "\n",
              "    .colab-df-convert {\n",
              "      background-color: #E8F0FE;\n",
              "      border: none;\n",
              "      border-radius: 50%;\n",
              "      cursor: pointer;\n",
              "      display: none;\n",
              "      fill: #1967D2;\n",
              "      height: 32px;\n",
              "      padding: 0 0 0 0;\n",
              "      width: 32px;\n",
              "    }\n",
              "\n",
              "    .colab-df-convert:hover {\n",
              "      background-color: #E2EBFA;\n",
              "      box-shadow: 0px 1px 2px rgba(60, 64, 67, 0.3), 0px 1px 3px 1px rgba(60, 64, 67, 0.15);\n",
              "      fill: #174EA6;\n",
              "    }\n",
              "\n",
              "    [theme=dark] .colab-df-convert {\n",
              "      background-color: #3B4455;\n",
              "      fill: #D2E3FC;\n",
              "    }\n",
              "\n",
              "    [theme=dark] .colab-df-convert:hover {\n",
              "      background-color: #434B5C;\n",
              "      box-shadow: 0px 1px 3px 1px rgba(0, 0, 0, 0.15);\n",
              "      filter: drop-shadow(0px 1px 2px rgba(0, 0, 0, 0.3));\n",
              "      fill: #FFFFFF;\n",
              "    }\n",
              "  </style>\n",
              "\n",
              "      <script>\n",
              "        const buttonEl =\n",
              "          document.querySelector('#df-534da268-1d52-4a17-abc8-a02963554973 button.colab-df-convert');\n",
              "        buttonEl.style.display =\n",
              "          google.colab.kernel.accessAllowed ? 'block' : 'none';\n",
              "\n",
              "        async function convertToInteractive(key) {\n",
              "          const element = document.querySelector('#df-534da268-1d52-4a17-abc8-a02963554973');\n",
              "          const dataTable =\n",
              "            await google.colab.kernel.invokeFunction('convertToInteractive',\n",
              "                                                     [key], {});\n",
              "          if (!dataTable) return;\n",
              "\n",
              "          const docLinkHtml = 'Like what you see? Visit the ' +\n",
              "            '<a target=\"_blank\" href=https://colab.research.google.com/notebooks/data_table.ipynb>data table notebook</a>'\n",
              "            + ' to learn more about interactive tables.';\n",
              "          element.innerHTML = '';\n",
              "          dataTable['output_type'] = 'display_data';\n",
              "          await google.colab.output.renderOutput(dataTable, element);\n",
              "          const docLink = document.createElement('div');\n",
              "          docLink.innerHTML = docLinkHtml;\n",
              "          element.appendChild(docLink);\n",
              "        }\n",
              "      </script>\n",
              "    </div>\n",
              "  </div>\n",
              "  "
            ]
          },
          "metadata": {},
          "execution_count": 3
        }
      ]
    },
    {
      "cell_type": "code",
      "source": [
        "# Removing unwanted columns\n",
        "\n",
        "product = product.drop(columns=['Crawl Timestamp', 'Billing Uniq Id', 'Rating', 'Review Title', 'Review Date', 'Url', 'Review Content', 'Verified Purchase', 'Helpful Review Count', 'Manufacturer Response'])"
      ],
      "metadata": {
        "id": "4RRHoaImbGNf"
      },
      "execution_count": 4,
      "outputs": []
    },
    {
      "cell_type": "code",
      "source": [
        "# renaming columns\n",
        "\n",
        "product = product.rename(columns={\"Uniq Id\": \"Uniq_Id\", \"Review Rating\": \"Rating\", \"User Id\": \"User_Id\", \"Sub Category\": \"Sub_Category\", \"Product Description\": \"Product_Description\"})"
      ],
      "metadata": {
        "id": "DDTN88MybQnW"
      },
      "execution_count": 5,
      "outputs": []
    },
    {
      "cell_type": "code",
      "source": [
        "product = product.drop(columns=['Uniq_Id'])"
      ],
      "metadata": {
        "id": "vDYxuLojbWsG"
      },
      "execution_count": 6,
      "outputs": []
    },
    {
      "cell_type": "code",
      "source": [
        "product = product.drop(columns=['Sub_Category', 'Category'])"
      ],
      "metadata": {
        "id": "K2L4Gw7Cba1Y"
      },
      "execution_count": 7,
      "outputs": []
    },
    {
      "cell_type": "code",
      "source": [
        "import re\n",
        "\n",
        "def clean_brand(Brand):\n",
        "  return re.sub(\"[^a-zA-Z0-9 ]\", \"\",Brand)"
      ],
      "metadata": {
        "id": "ajy-N-WtbeU5"
      },
      "execution_count": 8,
      "outputs": []
    },
    {
      "cell_type": "code",
      "source": [
        "product['Clean_brand'] = product[\"Brand\"].apply(clean_brand)"
      ],
      "metadata": {
        "id": "WEbL4EsibiMf"
      },
      "execution_count": 9,
      "outputs": []
    },
    {
      "cell_type": "code",
      "source": [
        "product.head()"
      ],
      "metadata": {
        "colab": {
          "base_uri": "https://localhost:8080/",
          "height": 337
        },
        "id": "PmIlFwURbluI",
        "outputId": "b23fa0f4-dc38-49e6-a981-c21cd7a6a14c"
      },
      "execution_count": 10,
      "outputs": [
        {
          "output_type": "execute_result",
          "data": {
            "text/plain": [
              "   Rating                       User_Id                Brand  \\\n",
              "0     5.0  AGIZFDSHLSBZ7KHQ4FV65W7B3HMQ  Schmidt's Deodorant   \n",
              "1     5.0  AHOZPYWO6WE5MLAZZPDUAWNKKNRQ  Schmidt's Deodorant   \n",
              "2     1.0  AECC6GYWWLNCKSBG3DZDGFSYDOTA  Schmidt's Deodorant   \n",
              "3     3.0  AEOO6OOEO4QD7Z4F6C2FMZUCW7PA  Schmidt's Deodorant   \n",
              "4     1.0  AEHSDCGRIMVOUG6ST35FJ4FMMW5Q  Schmidt's Deodorant   \n",
              "\n",
              "                                 Product_Description        Asin  \\\n",
              "0  Schmidt’s natural deodorant formulas use innov...  B071YYMZ19   \n",
              "1  Schmidt’s natural deodorant formulas use innov...  B071YYMZ19   \n",
              "2  Schmidt’s natural deodorant formulas use innov...  B071YYMZ19   \n",
              "3  Schmidt’s natural deodorant formulas use innov...  B071YYMZ19   \n",
              "4  Schmidt’s natural deodorant formulas use innov...  B071YYMZ19   \n",
              "\n",
              "          Clean_brand  \n",
              "0  Schmidts Deodorant  \n",
              "1  Schmidts Deodorant  \n",
              "2  Schmidts Deodorant  \n",
              "3  Schmidts Deodorant  \n",
              "4  Schmidts Deodorant  "
            ],
            "text/html": [
              "\n",
              "  <div id=\"df-b3ee8f16-b95f-4b3c-9356-b6ccf026814b\">\n",
              "    <div class=\"colab-df-container\">\n",
              "      <div>\n",
              "<style scoped>\n",
              "    .dataframe tbody tr th:only-of-type {\n",
              "        vertical-align: middle;\n",
              "    }\n",
              "\n",
              "    .dataframe tbody tr th {\n",
              "        vertical-align: top;\n",
              "    }\n",
              "\n",
              "    .dataframe thead th {\n",
              "        text-align: right;\n",
              "    }\n",
              "</style>\n",
              "<table border=\"1\" class=\"dataframe\">\n",
              "  <thead>\n",
              "    <tr style=\"text-align: right;\">\n",
              "      <th></th>\n",
              "      <th>Rating</th>\n",
              "      <th>User_Id</th>\n",
              "      <th>Brand</th>\n",
              "      <th>Product_Description</th>\n",
              "      <th>Asin</th>\n",
              "      <th>Clean_brand</th>\n",
              "    </tr>\n",
              "  </thead>\n",
              "  <tbody>\n",
              "    <tr>\n",
              "      <th>0</th>\n",
              "      <td>5.0</td>\n",
              "      <td>AGIZFDSHLSBZ7KHQ4FV65W7B3HMQ</td>\n",
              "      <td>Schmidt's Deodorant</td>\n",
              "      <td>Schmidt’s natural deodorant formulas use innov...</td>\n",
              "      <td>B071YYMZ19</td>\n",
              "      <td>Schmidts Deodorant</td>\n",
              "    </tr>\n",
              "    <tr>\n",
              "      <th>1</th>\n",
              "      <td>5.0</td>\n",
              "      <td>AHOZPYWO6WE5MLAZZPDUAWNKKNRQ</td>\n",
              "      <td>Schmidt's Deodorant</td>\n",
              "      <td>Schmidt’s natural deodorant formulas use innov...</td>\n",
              "      <td>B071YYMZ19</td>\n",
              "      <td>Schmidts Deodorant</td>\n",
              "    </tr>\n",
              "    <tr>\n",
              "      <th>2</th>\n",
              "      <td>1.0</td>\n",
              "      <td>AECC6GYWWLNCKSBG3DZDGFSYDOTA</td>\n",
              "      <td>Schmidt's Deodorant</td>\n",
              "      <td>Schmidt’s natural deodorant formulas use innov...</td>\n",
              "      <td>B071YYMZ19</td>\n",
              "      <td>Schmidts Deodorant</td>\n",
              "    </tr>\n",
              "    <tr>\n",
              "      <th>3</th>\n",
              "      <td>3.0</td>\n",
              "      <td>AEOO6OOEO4QD7Z4F6C2FMZUCW7PA</td>\n",
              "      <td>Schmidt's Deodorant</td>\n",
              "      <td>Schmidt’s natural deodorant formulas use innov...</td>\n",
              "      <td>B071YYMZ19</td>\n",
              "      <td>Schmidts Deodorant</td>\n",
              "    </tr>\n",
              "    <tr>\n",
              "      <th>4</th>\n",
              "      <td>1.0</td>\n",
              "      <td>AEHSDCGRIMVOUG6ST35FJ4FMMW5Q</td>\n",
              "      <td>Schmidt's Deodorant</td>\n",
              "      <td>Schmidt’s natural deodorant formulas use innov...</td>\n",
              "      <td>B071YYMZ19</td>\n",
              "      <td>Schmidts Deodorant</td>\n",
              "    </tr>\n",
              "  </tbody>\n",
              "</table>\n",
              "</div>\n",
              "      <button class=\"colab-df-convert\" onclick=\"convertToInteractive('df-b3ee8f16-b95f-4b3c-9356-b6ccf026814b')\"\n",
              "              title=\"Convert this dataframe to an interactive table.\"\n",
              "              style=\"display:none;\">\n",
              "        \n",
              "  <svg xmlns=\"http://www.w3.org/2000/svg\" height=\"24px\"viewBox=\"0 0 24 24\"\n",
              "       width=\"24px\">\n",
              "    <path d=\"M0 0h24v24H0V0z\" fill=\"none\"/>\n",
              "    <path d=\"M18.56 5.44l.94 2.06.94-2.06 2.06-.94-2.06-.94-.94-2.06-.94 2.06-2.06.94zm-11 1L8.5 8.5l.94-2.06 2.06-.94-2.06-.94L8.5 2.5l-.94 2.06-2.06.94zm10 10l.94 2.06.94-2.06 2.06-.94-2.06-.94-.94-2.06-.94 2.06-2.06.94z\"/><path d=\"M17.41 7.96l-1.37-1.37c-.4-.4-.92-.59-1.43-.59-.52 0-1.04.2-1.43.59L10.3 9.45l-7.72 7.72c-.78.78-.78 2.05 0 2.83L4 21.41c.39.39.9.59 1.41.59.51 0 1.02-.2 1.41-.59l7.78-7.78 2.81-2.81c.8-.78.8-2.07 0-2.86zM5.41 20L4 18.59l7.72-7.72 1.47 1.35L5.41 20z\"/>\n",
              "  </svg>\n",
              "      </button>\n",
              "      \n",
              "  <style>\n",
              "    .colab-df-container {\n",
              "      display:flex;\n",
              "      flex-wrap:wrap;\n",
              "      gap: 12px;\n",
              "    }\n",
              "\n",
              "    .colab-df-convert {\n",
              "      background-color: #E8F0FE;\n",
              "      border: none;\n",
              "      border-radius: 50%;\n",
              "      cursor: pointer;\n",
              "      display: none;\n",
              "      fill: #1967D2;\n",
              "      height: 32px;\n",
              "      padding: 0 0 0 0;\n",
              "      width: 32px;\n",
              "    }\n",
              "\n",
              "    .colab-df-convert:hover {\n",
              "      background-color: #E2EBFA;\n",
              "      box-shadow: 0px 1px 2px rgba(60, 64, 67, 0.3), 0px 1px 3px 1px rgba(60, 64, 67, 0.15);\n",
              "      fill: #174EA6;\n",
              "    }\n",
              "\n",
              "    [theme=dark] .colab-df-convert {\n",
              "      background-color: #3B4455;\n",
              "      fill: #D2E3FC;\n",
              "    }\n",
              "\n",
              "    [theme=dark] .colab-df-convert:hover {\n",
              "      background-color: #434B5C;\n",
              "      box-shadow: 0px 1px 3px 1px rgba(0, 0, 0, 0.15);\n",
              "      filter: drop-shadow(0px 1px 2px rgba(0, 0, 0, 0.3));\n",
              "      fill: #FFFFFF;\n",
              "    }\n",
              "  </style>\n",
              "\n",
              "      <script>\n",
              "        const buttonEl =\n",
              "          document.querySelector('#df-b3ee8f16-b95f-4b3c-9356-b6ccf026814b button.colab-df-convert');\n",
              "        buttonEl.style.display =\n",
              "          google.colab.kernel.accessAllowed ? 'block' : 'none';\n",
              "\n",
              "        async function convertToInteractive(key) {\n",
              "          const element = document.querySelector('#df-b3ee8f16-b95f-4b3c-9356-b6ccf026814b');\n",
              "          const dataTable =\n",
              "            await google.colab.kernel.invokeFunction('convertToInteractive',\n",
              "                                                     [key], {});\n",
              "          if (!dataTable) return;\n",
              "\n",
              "          const docLinkHtml = 'Like what you see? Visit the ' +\n",
              "            '<a target=\"_blank\" href=https://colab.research.google.com/notebooks/data_table.ipynb>data table notebook</a>'\n",
              "            + ' to learn more about interactive tables.';\n",
              "          element.innerHTML = '';\n",
              "          dataTable['output_type'] = 'display_data';\n",
              "          await google.colab.output.renderOutput(dataTable, element);\n",
              "          const docLink = document.createElement('div');\n",
              "          docLink.innerHTML = docLinkHtml;\n",
              "          element.appendChild(docLink);\n",
              "        }\n",
              "      </script>\n",
              "    </div>\n",
              "  </div>\n",
              "  "
            ]
          },
          "metadata": {},
          "execution_count": 10
        }
      ]
    },
    {
      "cell_type": "code",
      "source": [
        "from sklearn.feature_extraction.text import TfidfVectorizer\n",
        "\n",
        "vectorizer = TfidfVectorizer(ngram_range=(1,2))\n",
        "\n",
        "tfidf = vectorizer.fit_transform(product['Clean_brand'])"
      ],
      "metadata": {
        "id": "2dxISnIjbpkA"
      },
      "execution_count": 11,
      "outputs": []
    },
    {
      "cell_type": "code",
      "source": [
        "product.Brand.unique()"
      ],
      "metadata": {
        "colab": {
          "base_uri": "https://localhost:8080/"
        },
        "id": "5YOToR-hbs4W",
        "outputId": "86bcfe4e-8a22-4fef-f071-6043253c268d"
      },
      "execution_count": 12,
      "outputs": [
        {
          "output_type": "execute_result",
          "data": {
            "text/plain": [
              "array([\"Schmidt's Deodorant\", 'Sir Kensingtons', 'DOVE WOMENS DEO',\n",
              "       'SheaMoisture', 'Starbucks', 'Talenti'], dtype=object)"
            ]
          },
          "metadata": {},
          "execution_count": 12
        }
      ]
    },
    {
      "cell_type": "code",
      "source": [
        "from sklearn.metrics.pairwise import cosine_similarity\n",
        "import numpy as np\n",
        "\n",
        "def search(Brand):\n",
        "    Brand = clean_brand(Brand)\n",
        "    query_vec = vectorizer.transform([Brand])\n",
        "    similarity = cosine_similarity(query_vec, tfidf).flatten\n",
        "    indices = np.argpartition(similarity, -1)[-1:]\n",
        "    results = product.iloc[indices][::-1]\n",
        "    return results"
      ],
      "metadata": {
        "id": "y41tVFGBbwZL"
      },
      "execution_count": 13,
      "outputs": []
    },
    {
      "cell_type": "code",
      "source": [
        "import ipywidgets as widgets\n",
        "from IPython.display import display\n",
        "\n",
        "product_input = widgets.Text(value=\"Starbucks\", description=\"Search product:\", disabled=False )\n",
        "product_list = widgets.Output()\n",
        "\n",
        "def on_type(data):\n",
        "    with product_list:\n",
        "        product_list.clear_output()\n",
        "        Brand = data[\"new\"]\n",
        "        if len(Brand)>5:\n",
        "            display(search(Brand))\n",
        "\n",
        "product_input.observe(on_type, names='value')\n",
        "display(product_input, product_list)"
      ],
      "metadata": {
        "colab": {
          "base_uri": "https://localhost:8080/",
          "height": 130,
          "referenced_widgets": [
            "7c79e81097c842cb8fa430372d52a72c",
            "d65099b97a85472f9ca3d49a0daa4224",
            "32f5db85b3d747798f6401c5934a6baf",
            "4bd7130ed2bf443d861b819a55a99237",
            "7ec50d9f58a144c082c0b9c5c9e68e47"
          ]
        },
        "id": "GtVvcFZmb3Ef",
        "outputId": "9bec0946-d246-4cbb-f2cf-5c22464af4eb"
      },
      "execution_count": 14,
      "outputs": [
        {
          "output_type": "display_data",
          "data": {
            "text/plain": [
              "Text(value='Starbucks', description='Search product:')"
            ],
            "application/vnd.jupyter.widget-view+json": {
              "version_major": 2,
              "version_minor": 0,
              "model_id": "7c79e81097c842cb8fa430372d52a72c"
            }
          },
          "metadata": {}
        },
        {
          "output_type": "display_data",
          "data": {
            "text/plain": [
              "Output()"
            ],
            "application/vnd.jupyter.widget-view+json": {
              "version_major": 2,
              "version_minor": 0,
              "model_id": "4bd7130ed2bf443d861b819a55a99237"
            }
          },
          "metadata": {}
        }
      ]
    },
    {
      "cell_type": "code",
      "source": [
        "product_id = 'B005C2NA4E'"
      ],
      "metadata": {
        "id": "_HgXZ-NxcGGx"
      },
      "execution_count": 15,
      "outputs": []
    },
    {
      "cell_type": "code",
      "source": [
        "similar_users = product[(product[\"Asin\"]==product_id) & (product[\"Rating\"]>=3)][\"User_Id\"].unique()"
      ],
      "metadata": {
        "id": "Duj9tv9ScK65"
      },
      "execution_count": 16,
      "outputs": []
    },
    {
      "cell_type": "code",
      "source": [
        "similar_users"
      ],
      "metadata": {
        "colab": {
          "base_uri": "https://localhost:8080/"
        },
        "id": "gwVmS1XlcN-K",
        "outputId": "b44aee0f-fdfa-41e3-b722-eaa4f6d8282e"
      },
      "execution_count": 17,
      "outputs": [
        {
          "output_type": "execute_result",
          "data": {
            "text/plain": [
              "array(['AENAXKGITJDNOT77WY2D6FWUUBLQ', 'AGYQM2CBPGG5G2CR23THMQZ53ENQ',\n",
              "       'AHAC4AOK2625QJM3AXNYZ4EMPZ5Q', 'AH7A56LECWQJUPHQZGH6LC2QCPIA',\n",
              "       'AGHOS5TU37264RDIAEMXLOX7ZISQ'], dtype=object)"
            ]
          },
          "metadata": {},
          "execution_count": 17
        }
      ]
    },
    {
      "cell_type": "code",
      "source": [
        "similar_user_recs = product[(product[\"User_Id\"].isin(similar_users)) & (product[\"Rating\"]>=3)][\"Asin\"]"
      ],
      "metadata": {
        "id": "K6dykMVFcRoL"
      },
      "execution_count": 18,
      "outputs": []
    },
    {
      "cell_type": "code",
      "source": [
        "similar_user_recs"
      ],
      "metadata": {
        "colab": {
          "base_uri": "https://localhost:8080/"
        },
        "id": "KBahTgARcV1W",
        "outputId": "1e11d8e2-dee5-4a47-b1e8-35e391380873"
      },
      "execution_count": 19,
      "outputs": [
        {
          "output_type": "execute_result",
          "data": {
            "text/plain": [
              "45    B005C2NA4E\n",
              "46    B005C2NA4E\n",
              "47    B005C2NA4E\n",
              "48    B005C2NA4E\n",
              "49    B005C2NA4E\n",
              "Name: Asin, dtype: object"
            ]
          },
          "metadata": {},
          "execution_count": 19
        }
      ]
    },
    {
      "cell_type": "code",
      "source": [
        "similar_user_recs = similar_user_recs.value_counts() / len(similar_users)\n",
        "\n",
        "similar_user_recs = similar_user_recs[similar_user_recs > .1]"
      ],
      "metadata": {
        "id": "mJRbXz2pcZeL"
      },
      "execution_count": 20,
      "outputs": []
    },
    {
      "cell_type": "code",
      "source": [
        "similar_user_recs"
      ],
      "metadata": {
        "colab": {
          "base_uri": "https://localhost:8080/"
        },
        "id": "VIh2gP9NccTb",
        "outputId": "2e84d821-33a1-45b3-d67d-5457fe1bbd10"
      },
      "execution_count": 21,
      "outputs": [
        {
          "output_type": "execute_result",
          "data": {
            "text/plain": [
              "B005C2NA4E    1.0\n",
              "Name: Asin, dtype: float64"
            ]
          },
          "metadata": {},
          "execution_count": 21
        }
      ]
    }
  ]
}